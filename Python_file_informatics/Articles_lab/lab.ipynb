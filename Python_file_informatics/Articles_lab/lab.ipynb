{
 "cells": [
  {
   "cell_type": "code",
   "execution_count": 2,
   "metadata": {},
   "outputs": [],
   "source": [
    "import numpy as np\n",
    "import matplotlib.pyplot as plt\n",
    "from nltk.stem.snowball import SnowballStemmer\n",
    "from nltk.corpus import stopwords\n",
    "import nltk"
   ]
  },
  {
   "cell_type": "code",
   "execution_count": 3,
   "metadata": {},
   "outputs": [
    {
     "name": "stderr",
     "output_type": "stream",
     "text": [
      "[nltk_data] Downloading package stopwords to\n",
      "[nltk_data]     C:\\Users\\PC\\AppData\\Roaming\\nltk_data...\n",
      "[nltk_data]   Package stopwords is already up-to-date!\n"
     ]
    }
   ],
   "source": [
    "# stop_word = ['и, а, но, да, если, что, когда, я, ты, твой, его', 'ее, его, ее, наш, в, без, до, для, за, через, над, по, из, у, около, под, о, про, на, к, перед, при']\n",
    "\n",
    "nltk.download('stopwords')\n",
    "\n",
    "stemmer = SnowballStemmer(\"russian\")\n",
    "russian_stopwords = stopwords.words(\"russian\")\n",
    "russian_stopwords\n",
    "\n",
    "data = ['Британская полиция знает о местонахождении основателя WikiLeaks', 'В суде США начинается процесс против россиянина, рассылавшего спам', 'Церемонию вручения Нобелевской премии мира бойкотируют 19 стран', 'В Великобритании арестован основатель сайта Wikileaks Джулиан Ассандж', 'Украина игнорирует церемонию вручения Нобелевской премии', 'Шведский суд отказался рассматривать апелляцию основателя Wikileaks', 'НАТО и США разработали планы обороны стран Балтии против России', 'Полиция Великобритании нашла основателя WikiLeaks, но, не арестовала', 'В Стокгольме и Осло сегодня состоится вручение Нобелевских премий']\n",
    "\n",
    "\n"
   ]
  },
  {
   "cell_type": "code",
   "execution_count": 4,
   "metadata": {},
   "outputs": [
    {
     "data": {
      "text/plain": [
       "[['британск', 'полиц', 'знает', 'местонахожден', 'основател', 'wikileaks'],\n",
       " ['суд', 'сша', 'начина', 'процесс', 'прот', 'россиянин', 'рассыла', 'спам'],\n",
       " ['церемон', 'вручен', 'нобелевск', 'прем', 'мир', 'бойкотир', '19', 'стран'],\n",
       " ['великобритан',\n",
       "  'арестова',\n",
       "  'основател',\n",
       "  'сайт',\n",
       "  'wikileaks',\n",
       "  'джулиа',\n",
       "  'ассандж'],\n",
       " ['украин', 'игнорир', 'церемон', 'вручен', 'нобелевск', 'прем'],\n",
       " ['шведск',\n",
       "  'суд',\n",
       "  'отказа',\n",
       "  'рассматрива',\n",
       "  'апелляц',\n",
       "  'основател',\n",
       "  'wikileaks'],\n",
       " ['нат',\n",
       "  'сша',\n",
       "  'разработа',\n",
       "  'план',\n",
       "  'оборон',\n",
       "  'стран',\n",
       "  'балт',\n",
       "  'прот',\n",
       "  'росс'],\n",
       " ['полиц', 'великобритан', 'нашл', 'основател', 'wikileaks', 'арестова'],\n",
       " ['стокгольм', 'осл', 'сегодн', 'состо', 'вручен', 'нобелевск', 'прем']]"
      ]
     },
     "execution_count": 4,
     "metadata": {},
     "output_type": "execute_result"
    }
   ],
   "source": [
    "d = list(map(lambda el: el.lower(), data))\n",
    "d = list(map(lambda el: el.replace(\",\", \"\"), d))\n",
    "d = list(map(lambda el: el.replace(\".\", \"\"), d))\n",
    "# d = list(map(lambda el: el.split(\" \"), d))\n",
    "\n",
    "# s = list(map(lambda el: el.replace(\",\", \"\"), stop_word))\n",
    "# s = list(map(lambda el: el.split(\" \"), s))\n",
    "# res = []\n",
    "# for x in s:\n",
    "#     res.extend(x if isinstance(x, list) else [x])\n",
    "\n",
    "# for el in russian_stopwords:\n",
    "#     for item in d:\n",
    "#         if el in item:\n",
    "#             item.remove(el)\n",
    "res= []\n",
    "for el in d:\n",
    "    res.append(' '.join([stemmer.stem(word) for word in el.split() if word not in russian_stopwords]))\n",
    "res\n",
    "res = list(map(lambda el: el.split(), res))\n",
    "res\n"
   ]
  },
  {
   "cell_type": "code",
   "execution_count": 5,
   "metadata": {},
   "outputs": [
    {
     "data": {
      "text/plain": [
       "{'19',\n",
       " 'wikileaks',\n",
       " 'апелляц',\n",
       " 'арестова',\n",
       " 'ассандж',\n",
       " 'балт',\n",
       " 'бойкотир',\n",
       " 'британск',\n",
       " 'великобритан',\n",
       " 'вручен',\n",
       " 'джулиа',\n",
       " 'знает',\n",
       " 'игнорир',\n",
       " 'местонахожден',\n",
       " 'мир',\n",
       " 'нат',\n",
       " 'начина',\n",
       " 'нашл',\n",
       " 'нобелевск',\n",
       " 'оборон',\n",
       " 'осл',\n",
       " 'основател',\n",
       " 'отказа',\n",
       " 'план',\n",
       " 'полиц',\n",
       " 'прем',\n",
       " 'прот',\n",
       " 'процесс',\n",
       " 'разработа',\n",
       " 'рассматрива',\n",
       " 'рассыла',\n",
       " 'росс',\n",
       " 'россиянин',\n",
       " 'сайт',\n",
       " 'сегодн',\n",
       " 'состо',\n",
       " 'спам',\n",
       " 'стокгольм',\n",
       " 'стран',\n",
       " 'суд',\n",
       " 'сша',\n",
       " 'украин',\n",
       " 'церемон',\n",
       " 'шведск'}"
      ]
     },
     "execution_count": 5,
     "metadata": {},
     "output_type": "execute_result"
    }
   ],
   "source": [
    "word = set()\n",
    "for el in res:\n",
    "    for subel in el:\n",
    "        word.add(subel)\n",
    "word"
   ]
  },
  {
   "cell_type": "code",
   "execution_count": 6,
   "metadata": {},
   "outputs": [
    {
     "data": {
      "text/plain": [
       "['начина',\n",
       " 'стокгольм',\n",
       " 'нат',\n",
       " 'знает',\n",
       " 'джулиа',\n",
       " 'россиянин',\n",
       " 'разработа',\n",
       " 'рассыла',\n",
       " 'план',\n",
       " 'бойкотир',\n",
       " '19',\n",
       " 'мир',\n",
       " 'росс',\n",
       " 'осл',\n",
       " 'сайт',\n",
       " 'нашл',\n",
       " 'отказа',\n",
       " 'спам',\n",
       " 'рассматрива',\n",
       " 'балт',\n",
       " 'состо',\n",
       " 'оборон',\n",
       " 'украин',\n",
       " 'процесс',\n",
       " 'апелляц',\n",
       " 'сегодн',\n",
       " 'местонахожден',\n",
       " 'британск',\n",
       " 'игнорир',\n",
       " 'шведск',\n",
       " 'ассандж']"
      ]
     },
     "execution_count": 6,
     "metadata": {},
     "output_type": "execute_result"
    }
   ],
   "source": [
    "unique = []\n",
    "for el in word:\n",
    "    sum = 0\n",
    "    for item in res:\n",
    "        sum += item.count(el)\n",
    "    if sum == 1:\n",
    "        unique.append(el)\n",
    "\n",
    "unique"
   ]
  },
  {
   "cell_type": "code",
   "execution_count": 7,
   "metadata": {},
   "outputs": [
    {
     "data": {
      "text/plain": [
       "['wikileaks',\n",
       " 'арестова',\n",
       " 'великобритан',\n",
       " 'вручен',\n",
       " 'нобелевск',\n",
       " 'основател',\n",
       " 'полиц',\n",
       " 'прем',\n",
       " 'прот',\n",
       " 'стран',\n",
       " 'суд',\n",
       " 'сша',\n",
       " 'церемон']"
      ]
     },
     "execution_count": 7,
     "metadata": {},
     "output_type": "execute_result"
    }
   ],
   "source": [
    "for el in res:\n",
    "    for item in unique:\n",
    "        if item in el:\n",
    "            el.remove(item)\n",
    "word.clear()\n",
    "for el in res:\n",
    "    for subel in el:\n",
    "        word.add(subel)\n",
    "w = list(word)\n",
    "w = sorted(w, key = lambda el: el)\n",
    "w"
   ]
  },
  {
   "cell_type": "code",
   "execution_count": 8,
   "metadata": {},
   "outputs": [
    {
     "data": {
      "text/plain": [
       "array([[1, 0, 0, 1, 0, 1, 0, 1, 0],\n",
       "       [0, 0, 0, 1, 0, 0, 0, 1, 0],\n",
       "       [0, 0, 0, 1, 0, 0, 0, 1, 0],\n",
       "       [0, 0, 1, 0, 1, 0, 0, 0, 1],\n",
       "       [0, 0, 1, 0, 1, 0, 0, 0, 1],\n",
       "       [1, 0, 0, 1, 0, 1, 0, 1, 0],\n",
       "       [1, 0, 0, 0, 0, 0, 0, 1, 0],\n",
       "       [0, 0, 1, 0, 1, 0, 0, 0, 1],\n",
       "       [0, 1, 0, 0, 0, 0, 1, 0, 0],\n",
       "       [0, 0, 1, 0, 0, 0, 1, 0, 0],\n",
       "       [0, 1, 0, 0, 0, 1, 0, 0, 0],\n",
       "       [0, 1, 0, 0, 0, 0, 1, 0, 0],\n",
       "       [0, 0, 1, 0, 1, 0, 0, 0, 0]])"
      ]
     },
     "execution_count": 8,
     "metadata": {},
     "output_type": "execute_result"
    }
   ],
   "source": [
    "A = np.zeros((len(w),len(res)), dtype=int)\n",
    "for i in range(len(w)):\n",
    "    for j in range(len(res)):\n",
    "        if w[i] in res[j]:\n",
    "            A[i][j] = 1\n",
    "A"
   ]
  },
  {
   "cell_type": "code",
   "execution_count": 9,
   "metadata": {},
   "outputs": [
    {
     "data": {
      "text/plain": [
       "array([[-0.57374475,  0.00620486],\n",
       "       [-0.33995391,  0.00414783],\n",
       "       [-0.33995391,  0.00414783],\n",
       "       [-0.00439496, -0.51834402],\n",
       "       [-0.00439496, -0.51834402],\n",
       "       [-0.57374475,  0.00620486],\n",
       "       [-0.30805437,  0.00372811],\n",
       "       [-0.00439496, -0.51834402],\n",
       "       [-0.01664101, -0.03357136],\n",
       "       [-0.0051497 , -0.2248939 ],\n",
       "       [-0.12227081, -0.00616187],\n",
       "       [-0.01664101, -0.03357136],\n",
       "       [-0.00326389, -0.37545147]])"
      ]
     },
     "execution_count": 9,
     "metadata": {},
     "output_type": "execute_result"
    }
   ],
   "source": [
    "U, W, VT = np.linalg.svd(A)\n",
    "U1 = U[:,0:2]\n",
    "U1"
   ]
  },
  {
   "cell_type": "code",
   "execution_count": 10,
   "metadata": {},
   "outputs": [
    {
     "data": {
      "text/plain": [
       "array([[-0.42631592, -0.04556005, -0.006326  , -0.53522851, -0.0048177 ,\n",
       "        -0.37190156, -0.01125631, -0.62545491, -0.00386173],\n",
       "       [ 0.00489193, -0.02222114, -0.65336888,  0.00627651, -0.58519582,\n",
       "         0.00189393, -0.08852632,  0.00740663, -0.47138359]])"
      ]
     },
     "execution_count": 10,
     "metadata": {},
     "output_type": "execute_result"
    }
   ],
   "source": [
    "VT1 = VT[0:2, :]\n",
    "VT1"
   ]
  },
  {
   "cell_type": "code",
   "execution_count": 11,
   "metadata": {},
   "outputs": [
    {
     "data": {
      "text/plain": [
       "array([[3.41423762, 0.        ],\n",
       "       [0.        , 3.2988676 ]])"
      ]
     },
     "execution_count": 11,
     "metadata": {},
     "output_type": "execute_result"
    }
   ],
   "source": [
    "W1 = W[0:2]\n",
    "W1\n",
    "W1=np.diag(W1)\n",
    "W1"
   ]
  },
  {
   "cell_type": "code",
   "execution_count": 12,
   "metadata": {},
   "outputs": [
    {
     "name": "stdout",
     "output_type": "stream",
     "text": [
      "(13, 9)\n"
     ]
    },
    {
     "data": {
      "text/plain": [
       "array([[ 8.35210781e-01,  8.87927758e-02, -9.81799132e-04,\n",
       "         1.04858808e+00, -2.54098024e-03,  7.28557073e-01,\n",
       "         2.02379536e-02,  1.22535579e+00, -2.08399795e-03],\n",
       "       [ 4.94884760e-01,  5.25767380e-02, -1.59765085e-03,\n",
       "         6.21316733e-01, -2.41549153e-03,  4.31685891e-01,\n",
       "         1.18536965e-02,  7.26056484e-01, -1.96775581e-03],\n",
       "       [ 4.94884760e-01,  5.25767380e-02, -1.59765085e-03,\n",
       "         6.21316733e-01, -2.41549153e-03,  4.31685891e-01,\n",
       "         1.18536965e-02,  7.26056484e-01, -1.96775581e-03],\n",
       "       [-1.96789181e-03,  3.86806402e-02,  1.11732194e+00,\n",
       "        -2.70116917e-03,  1.00072689e+00,  2.34201269e-03,\n",
       "         1.51544337e-01, -3.27972902e-03,  8.06099522e-01],\n",
       "       [-1.96789181e-03,  3.86806402e-02,  1.11732194e+00,\n",
       "        -2.70116917e-03,  1.00072689e+00,  2.34201269e-03,\n",
       "         1.51544337e-01, -3.27972902e-03,  8.06099522e-01],\n",
       "       [ 8.35210781e-01,  8.87927758e-02, -9.81799132e-04,\n",
       "         1.04858808e+00, -2.54098024e-03,  7.28557073e-01,\n",
       "         2.02379536e-02,  1.22535579e+00, -2.08399795e-03],\n",
       "       [ 4.48446818e-01,  4.76454423e-02, -1.38199140e-03,\n",
       "         5.63014924e-01, -2.12994989e-03,  3.91178509e-01,\n",
       "         1.07503142e-02,  6.57926320e-01, -1.73567955e-03],\n",
       "       [-1.96789181e-03,  3.86806402e-02,  1.11732194e+00,\n",
       "        -2.70116917e-03,  1.00072689e+00,  2.34201269e-03,\n",
       "         1.51544337e-01, -3.27972902e-03,  8.06099522e-01],\n",
       "       [ 2.36799503e-02,  5.04949029e-03,  7.27183618e-02,\n",
       "         2.97146283e-02,  6.50826725e-02,  2.09203446e-02,\n",
       "         1.04436074e-02,  3.47158062e-02,  5.24239433e-02],\n",
       "       [ 3.86632071e-03,  1.72868045e-02,  4.84842467e-01,\n",
       "         4.75404357e-03,  4.34238681e-01,  5.13378812e-03,\n",
       "         6.58751648e-02,  5.50200207e-03,  3.49785126e-01],\n",
       "       [ 1.77871093e-01,  1.94712647e-02,  1.59220224e-02,\n",
       "         2.23309771e-01,  1.39065965e-02,  1.55216127e-01,\n",
       "         6.49857018e-03,  2.60952858e-01,  1.11940340e-02],\n",
       "       [ 2.36799503e-02,  5.04949029e-03,  7.27183618e-02,\n",
       "         2.97146283e-02,  6.50826725e-02,  2.09203446e-02,\n",
       "         1.04436074e-02,  3.47158062e-02,  5.24239433e-02],\n",
       "       [-1.30823493e-03,  2.80300210e-02,  8.09310134e-01,\n",
       "        -1.80943602e-03,  7.24856579e-01,  1.79859794e-03,\n",
       "         1.09771013e-01, -2.20370636e-03,  5.83882116e-01]])"
      ]
     },
     "execution_count": 12,
     "metadata": {},
     "output_type": "execute_result"
    }
   ],
   "source": [
    "R = np.matmul(np.matmul(U1, W1), VT1)\n",
    "print(R.shape)\n",
    "R"
   ]
  },
  {
   "cell_type": "code",
   "execution_count": 22,
   "metadata": {},
   "outputs": [
    {
     "data": {
      "text/plain": [
       "2"
      ]
     },
     "execution_count": 22,
     "metadata": {},
     "output_type": "execute_result"
    },
    {
     "data": {
      "image/png": "[encoded data removed]",
      "text/plain": [
       "<Figure size 640x480 with 1 Axes>"
      ]
     },
     "metadata": {},
     "output_type": "display_data"
    }
   ],
   "source": [
    "fig, ax = plt.subplots()\n",
    "x = U1[:,0]\n",
    "y=U1[:,1]\n",
    "\n",
    "x1 = VT1[0,:]\n",
    "y1 = VT1[1,:]\n",
    "ax.set_xlim(-0.7,0.1)\n",
    "ax.set_ylim(-0.7,0.1)\n",
    "ax.text(x[0],y[0]-0.05, w[0])\n",
    "ax.scatter(x[0],y[0], c='r')\n",
    "ax.text(x[7],y[7], w[7])\n",
    "ax.scatter(x[7],y[7], c='r')\n",
    "ax.text(x[11],y[11], w[11])\n",
    "ax.scatter(x[11],y[11], c='r')\n",
    "\n",
    "for i in range(len(x1)):\n",
    "    ax.text(x1[i], y1[i], 'T{}'.format(i+1))\n",
    "    ax.scatter(x1[i], y1[i],c='b')\n",
    "\n",
    "def min_ras(n):\n",
    "    x0 = VT1[0,n-1]\n",
    "    y0 = VT1[1,n-1]\n",
    "    min = 1000000\n",
    "    index = 0\n",
    "    for i in range(len(VT1[0,:])):\n",
    "        if i != n-1:\n",
    "            current_min = np.sqrt( (x0-VT1[0,i])**2 + (y0-VT1[1,i])**2)\n",
    "            if current_min <= min:\n",
    "                min = current_min\n",
    "                index = i+1\n",
    "    return index\n",
    "\n",
    "min_ras(7)"
   ]
  },
  {
   "cell_type": "code",
   "execution_count": null,
   "metadata": {},
   "outputs": [],
   "source": []
  }
 ],
 "metadata": {
  "kernelspec": {
   "display_name": "Python 3.10.7 64-bit",
   "language": "python",
   "name": "python3"
  },
  "language_info": {
   "codemirror_mode": {
    "name": "ipython",
    "version": 3
   },
   "file_extension": ".py",
   "mimetype": "text/x-python",
   "name": "python",
   "nbconvert_exporter": "python",
   "pygments_lexer": "ipython3",
   "version": "3.10.7"
  },
  "orig_nbformat": 4,
  "vscode": {
   "interpreter": {
    "hash": "e593ac106456af50ce7af38f9671c411b49d6cd90f9b885e167f0f594e09038c"
   }
  }
 },
 "nbformat": 4,
 "nbformat_minor": 2
}
