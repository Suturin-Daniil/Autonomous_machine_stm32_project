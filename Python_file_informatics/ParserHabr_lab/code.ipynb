{
 "cells": [
  {
   "cell_type": "code",
   "execution_count": 19,
   "metadata": {},
   "outputs": [],
   "source": [
    "import numpy as np\n",
    "import matplotlib.pyplot as plt\n",
    "from nltk.stem.snowball import SnowballStemmer\n",
    "from nltk.corpus import stopwords\n",
    "import nltk\n",
    "import requests\n",
    "from lxml import html\n",
    "import time"
   ]
  },
  {
   "cell_type": "code",
   "execution_count": 20,
   "metadata": {},
   "outputs": [
    {
     "name": "stderr",
     "output_type": "stream",
     "text": [
      "[nltk_data] Downloading package stopwords to\n",
      "[nltk_data]     C:\\Users\\PC\\AppData\\Roaming\\nltk_data...\n",
      "[nltk_data]   Package stopwords is already up-to-date!\n"
     ]
    }
   ],
   "source": [
    "nltk.download('stopwords')\n",
    "\n",
    "stemmer = SnowballStemmer(\"russian\")\n",
    "russian_stopwords = stopwords.words(\"russian\")\n"
   ]
  },
  {
   "cell_type": "code",
   "execution_count": 21,
   "metadata": {},
   "outputs": [],
   "source": [
    "\n",
    "url_post1 = 'https://habr.com/ru/search/page1/?q=Латентно%20семантический&target_type=posts&order=relevance'\n",
    "\n",
    "url_post2 = 'https://habr.com/ru/search/page2/?q=Латентно%20семантический&target_type=posts&order=relevance'\n",
    "\n",
    "url_post3 = 'https://habr.com/ru/search/page3/?q=Латентно%20семантический&target_type=posts&order=relevance'\n",
    "\n",
    "url_post4 = 'https://habr.com/ru/search/page4/?q=Латентно%20семантический&target_type=posts&order=relevance'\n",
    "\n",
    "page1 = requests.get(url_post1)\n",
    "tree1 = html.fromstring(page1.content)\n",
    "\n",
    "time.sleep(2)\n",
    "\n",
    "page2 = requests.get(url_post2)\n",
    "tree2 = html.fromstring(page2.content)\n",
    "\n",
    "time.sleep(2)\n",
    "\n",
    "page3 = requests.get(url_post3)\n",
    "tree3 = html.fromstring(page3.content)\n",
    "\n",
    "time.sleep(2)\n",
    "\n",
    "page4 = requests.get(url_post4)\n",
    "tree4 = html.fromstring(page4.content)\n",
    "\n",
    "content1 = tree1.xpath('//a[@class=\"tm-article-snippet__title-link\"]/@href')\n",
    "content2 = tree1.xpath('//a[@class=\"tm-article-snippet__title-link\"]/@href')\n",
    "content3 = tree1.xpath('//a[@class=\"tm-article-snippet__title-link\"]/@href')\n",
    "content4 = tree1.xpath('//a[@class=\"tm-article-snippet__title-link\"]/@href')\n"
   ]
  },
  {
   "cell_type": "code",
   "execution_count": 22,
   "metadata": {},
   "outputs": [],
   "source": [
    "link = 'https://habr.com'\n",
    "l = []\n",
    "content = content1+content2+content3+content4\n",
    "\n",
    "for el in content:\n",
    "    page = requests.get(link+el)\n",
    "    tree = html.fromstring(page.content)\n",
    "    content_lsa = tree.xpath('//div[@id=\"post-content-body\"]')\n",
    "    post_lsa = content_lsa[0].text_content()\n",
    "    l.append(post_lsa)\n",
    "    time.sleep(1)\n",
    "\n",
    "\n"
   ]
  },
  {
   "cell_type": "code",
   "execution_count": 33,
   "metadata": {},
   "outputs": [],
   "source": [
    "res = []\n",
    "for el in l:\n",
    "    res.append(' '.join([stemmer.stem(word) for word in el.split() if word not in russian_stopwords]))\n",
    "\n",
    "\n"
   ]
  },
  {
   "cell_type": "code",
   "execution_count": 37,
   "metadata": {},
   "outputs": [
    {
     "ename": "TypeError",
     "evalue": "'list' object is not callable",
     "output_type": "error",
     "traceback": [
      "\u001b[1;31m---------------------------------------------------------------------------\u001b[0m",
      "\u001b[1;31mTypeError\u001b[0m                                 Traceback (most recent call last)",
      "Cell \u001b[1;32mIn [37], line 1\u001b[0m\n\u001b[1;32m----> 1\u001b[0m res \u001b[39m=\u001b[39m \u001b[39mlist\u001b[39;49m(\u001b[39mmap\u001b[39;49m(\u001b[39mlambda\u001b[39;49;00m el: el\u001b[39m.\u001b[39;49mlower(), res))\n",
      "\u001b[1;31mTypeError\u001b[0m: 'list' object is not callable"
     ]
    }
   ],
   "source": [
    "res"
   ]
  },
  {
   "cell_type": "code",
   "execution_count": null,
   "metadata": {},
   "outputs": [],
   "source": []
  }
 ],
 "metadata": {
  "kernelspec": {
   "display_name": "Python 3.10.7 64-bit",
   "language": "python",
   "name": "python3"
  },
  "language_info": {
   "codemirror_mode": {
    "name": "ipython",
    "version": 3
   },
   "file_extension": ".py",
   "mimetype": "text/x-python",
   "name": "python",
   "nbconvert_exporter": "python",
   "pygments_lexer": "ipython3",
   "version": "3.10.7"
  },
  "orig_nbformat": 4,
  "vscode": {
   "interpreter": {
    "hash": "e593ac106456af50ce7af38f9671c411b49d6cd90f9b885e167f0f594e09038c"
   }
  }
 },
 "nbformat": 4,
 "nbformat_minor": 2
}
