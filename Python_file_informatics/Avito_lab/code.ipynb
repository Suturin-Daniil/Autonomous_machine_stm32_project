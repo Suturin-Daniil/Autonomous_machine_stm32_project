{
 "cells": [
  {
   "cell_type": "code",
   "execution_count": 6,
   "metadata": {},
   "outputs": [],
   "source": [
    "import numpy as np\n",
    "import codecs\n",
    "import re\n",
    "import webbrowser\n",
    "\n",
    "def count_lines(filename, chunk_size=1<<13):\n",
    "    with open(filename) as file:\n",
    "        return sum(chunk.count('\\n')\n",
    "                   for chunk in iter(lambda: file.read(chunk_size), ''))"
   ]
  },
  {
   "cell_type": "code",
   "execution_count": 7,
   "metadata": {},
   "outputs": [
    {
     "data": {
      "text/plain": [
       "True"
      ]
     },
     "execution_count": 7,
     "metadata": {},
     "output_type": "execute_result"
    }
   ],
   "source": [
    "mainLink = 'https://www.avito.ru/dolgoprudnyy/kvartiry/sdam/na_dlitelnyy_srok-ASgBAgICAkSSA8gQ8AeQUg?cd=1'\n",
    "subLink = 'https://www.avito.ru/dolgoprudnyy/kvartiry/'\n",
    "\n",
    "strdata1 = 'target=\"_blank\" rel=\"noopener\" title=\"'\n",
    "strdata2 = '\" itemProp=\"url\" data-marker=\"item-title\"'\n",
    "\n",
    "str1price = '<meta itemProp=\"price\" content='\n",
    "str2price = '/><meta itemProp=\"availability\" content=\"'\n",
    "\n",
    "str1link = '<div class=\"iva-item-titleStep-pdebR\"><a href=\"/dolgoprudnyy/kvartiry/'\n",
    "str2link = '\" target=\"_blank\" rel=\"noopener\" title=\"'\n",
    "\n",
    "data = codecs.open('data.txt', 'r', 'utf_8_sig')\n",
    "data = data.read()\n",
    "dat = []\n",
    "\n",
    "dat1 = []\n",
    "\n",
    "#DATA=====================================================================\n",
    "indexdatastart = [_.start() for _ in re.finditer(strdata1, data)]\n",
    "indexdataend = [_.start() for _ in re.finditer(strdata2, data)]\n",
    "for i in range(len(indexdatastart)):\n",
    "    dat.append( (data[indexdatastart[i]+len(strdata1):indexdataend[i]]).split(' ') )\n",
    "\n",
    "for el in dat:\n",
    "    for subel in el:\n",
    "        if '\\xa0м²' in subel:\n",
    "            dat1.append(subel[:-4])\n",
    "dat2 = []\n",
    "for el in dat1:\n",
    "    dat2.append(el.replace(',','.'))\n",
    "dat2 = list(map(float, dat2))\n",
    "\n",
    "\n",
    "#PRICE=====================================================\n",
    "price = []\n",
    "\n",
    "indexpricestart = [_.start() for _ in re.finditer(str1price, data)]\n",
    "indexpriceend = [_.start() for _ in re.finditer(str2price, data)]\n",
    "\n",
    "for i in range(len(indexdatastart)):\n",
    "    price.append( (data[indexpricestart[i]+len(str1price)+1:indexpriceend[i]-1]).split(' ') )\n",
    "\n",
    "price1 = []\n",
    "for el in price:\n",
    "    for subel in el:\n",
    "        price1.append(subel)\n",
    "price1 = list(map(int, price1))\n",
    "\n",
    "#LINK=======================================================\n",
    "link = []\n",
    "\n",
    "indexlinkstart = [_.start() for _ in re.finditer(str1link, data)]\n",
    "indexlinkend = [_.start() for _ in re.finditer(str2link, data)]\n",
    "\n",
    "link1 = []\n",
    "for i in range(len(indexlinkstart)):\n",
    "    link.append( (data[indexlinkstart[i]+len(str1link):indexlinkend[i]]).split(' ') )\n",
    "link\n",
    "\n",
    "for el in link:\n",
    "    for subel in el:\n",
    "        link1.append(subel)\n",
    "link1\n",
    "\n",
    "#================================\n",
    "square = np.array(dat2, dtype=float)\n",
    "price = np.array(price1, dtype=int)\n",
    "C = price/square\n",
    "minC = np.min(C)\n",
    "indexMin = np.argmin(C)\n",
    "minLink = subLink+link1[indexMin]\n",
    "\n",
    "webbrowser.open_new(minLink)\n",
    "\n",
    "\n",
    "\n",
    "\n"
   ]
  },
  {
   "cell_type": "markdown",
   "metadata": {},
   "source": [
    "Wildberries"
   ]
  },
  {
   "cell_type": "code",
   "execution_count": null,
   "metadata": {},
   "outputs": [],
   "source": []
  }
 ],
 "metadata": {
  "kernelspec": {
   "display_name": "Python 3.10.7 64-bit",
   "language": "python",
   "name": "python3"
  },
  "language_info": {
   "codemirror_mode": {
    "name": "ipython",
    "version": 3
   },
   "file_extension": ".py",
   "mimetype": "text/x-python",
   "name": "python",
   "nbconvert_exporter": "python",
   "pygments_lexer": "ipython3",
   "version": "3.10.7"
  },
  "orig_nbformat": 4,
  "vscode": {
   "interpreter": {
    "hash": "e593ac106456af50ce7af38f9671c411b49d6cd90f9b885e167f0f594e09038c"
   }
  }
 },
 "nbformat": 4,
 "nbformat_minor": 2
}
